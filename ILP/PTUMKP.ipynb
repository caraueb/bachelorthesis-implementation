{
 "cells": [
  {
   "cell_type": "code",
   "execution_count": 1,
   "metadata": {},
   "outputs": [],
   "source": [
    "import gurobipy as gp\n",
    "from gurobipy import GRB\n",
    "import numpy as np\n",
    "import pandas as pd\n",
    "import math\n",
    "import csv\n",
    "import os"
   ]
  },
  {
   "cell_type": "markdown",
   "metadata": {},
   "source": [
    "## ILP for the Unbounded Multiple Knapsack Problem with Processing Times"
   ]
  },
  {
   "cell_type": "code",
   "execution_count": 2,
   "metadata": {},
   "outputs": [],
   "source": [
    "n = 10 # number of campaigns\n",
    "m = 1000 # number of customers\n",
    "d = 45 # days to be scheduled\n",
    "\n",
    "s = np.random.randint(d-1, size = n) # starting time\n",
    "p = np.random.choice([5, 8, 15, 17, 23, 30, 60], n) # processing time\n",
    "c = np.random.randint(low = 10, high = 40, size = n) # cost\n",
    "b = np.random.randint(low = 40, high = 80, size = n) # benefit\n",
    "C = np.random.randint(low = 40, high = 100, size = n) # maximum cost\n",
    "\n",
    "zippedList =  list(zip(s, p, c, b, C))\n",
    "campaigns = pd.DataFrame(zippedList, columns = ['starting time', 'processing time' , 'cost', 'benefit', 'maximum cost'])\n",
    "campaigns.index.names = ['name']\n",
    "# print(\"Dataframe : \" , campaigns, sep='\\n')\n",
    "\n",
    "# matrix with take-rates\n",
    "T = np.random.random_sample((m, n))"
   ]
  },
  {
   "cell_type": "code",
   "execution_count": 4,
   "metadata": {},
   "outputs": [
    {
     "name": "stdout",
     "output_type": "stream",
     "text": [
      "Gurobi Optimizer version 9.1.1 build v9.1.1rc0 (mac64)\n",
      "Thread count: 2 physical cores, 4 logical processors, using up to 4 threads\n"
     ]
    },
    {
     "ename": "GurobiError",
     "evalue": "Model too large for size-limited license; visit https://www.gurobi.com/free-trial for a full license",
     "output_type": "error",
     "traceback": [
      "\u001b[0;31m---------------------------------------------------------------------------\u001b[0m",
      "\u001b[0;31mGurobiError\u001b[0m                               Traceback (most recent call last)",
      "\u001b[0;32m<ipython-input-4-ed77452d2b2a>\u001b[0m in \u001b[0;36m<module>\u001b[0;34m\u001b[0m\n\u001b[1;32m     21\u001b[0m \u001b[0;34m\u001b[0m\u001b[0m\n\u001b[1;32m     22\u001b[0m \u001b[0;31m# solve model\u001b[0m\u001b[0;34m\u001b[0m\u001b[0;34m\u001b[0m\u001b[0;34m\u001b[0m\u001b[0m\n\u001b[0;32m---> 23\u001b[0;31m \u001b[0mmodel\u001b[0m\u001b[0;34m.\u001b[0m\u001b[0moptimize\u001b[0m\u001b[0;34m(\u001b[0m\u001b[0;34m)\u001b[0m\u001b[0;34m\u001b[0m\u001b[0;34m\u001b[0m\u001b[0m\n\u001b[0m\u001b[1;32m     24\u001b[0m \u001b[0;34m\u001b[0m\u001b[0m\n\u001b[1;32m     25\u001b[0m \u001b[0;31m# get attributes\u001b[0m\u001b[0;34m\u001b[0m\u001b[0;34m\u001b[0m\u001b[0;34m\u001b[0m\u001b[0m\n",
      "\u001b[0;32msrc/gurobipy/model.pxi\u001b[0m in \u001b[0;36mgurobipy.Model.optimize\u001b[0;34m()\u001b[0m\n",
      "\u001b[0;31mGurobiError\u001b[0m: Model too large for size-limited license; visit https://www.gurobi.com/free-trial for a full license"
     ]
    }
   ],
   "source": [
    "# create empty model\n",
    "model = gp.Model()\n",
    "\n",
    "# add decision variables\n",
    "x = model.addMVar((m,n), vtype=GRB.BINARY, name='x') # variable x_ij\n",
    "z = model.addMVar((m,n,d), vtype=GRB.BINARY, name = 'z') # variable z_ijl\n",
    " \n",
    "# set objective function\n",
    "model.setObjective((sum((b[j]*T[i][j] - c[j]) * x[i,j] for j in range(n) for i in range(m))), GRB.MAXIMIZE)\n",
    "\n",
    "# add constraints\n",
    "model.addConstrs(((sum(c[j]*x[i,j] for i in range(m))) <= C[j]) for j in range(n))\n",
    "\n",
    "model.addConstrs(((sum(z[i,j,l] for j in range(n))) <= 1) for i in range(m) for l in range(d))\n",
    "\n",
    "model.addConstrs(((s[j]+p[j])*x[i,j] <= d) for i in range(m) for j in range(n))\n",
    "\n",
    "model.addConstrs((z[i,j,l] == 0) for j in range(n) for i in range(m) for l in range(d) if l not in range(s[j],min(s[j]+p[j],d)))\n",
    "\n",
    "model.addConstrs(((sum(z[i,j,l] for l in range(s[j],min(s[j]+p[j],d)))) == p[j]*x[i,j]) for j in range(n) for i in range(m))\n",
    "\n",
    "# solve model\n",
    "model.optimize()\n",
    "\n",
    "# get attributes\n",
    "if model.SolCount > 0:\n",
    "    x_values = []\n",
    "    for k in range(m*n):\n",
    "        current = model.getVarByName(\"x[{}]\".format(k))\n",
    "        x_values.append((current.varName, current.x))\n",
    "    \n",
    "cwd = os.getcwd()\n",
    "path = '{}/output'.format(cwd)\n",
    "if not os.path.exists(path):\n",
    "    os.makedirs(path)\n",
    "    \n",
    "# write schedule into file\n",
    "with open('{}/ptumkp.csv'.format(path), mode = 'w') as schedule:\n",
    "    writer = csv.writer(schedule, delimiter = ';')\n",
    "    writer.writerow(['campaign','customer','starting time', 'processing time'])\n",
    "\n",
    "    for value in x_values:\n",
    "        if value[1] == 1.0:\n",
    "            count = int(value[0][value[0].find('[')+1:value[0].find(']')])\n",
    "            customer = math.floor(count/n)\n",
    "            campaign = count%n\n",
    "            writer.writerow(campaign, customer, s[campaign], p[campaign])\n",
    "\n",
    "schedule.close()\n",
    "\n",
    "# export model\n",
    "# model.write('ptumkp.lp')"
   ]
  },
  {
   "cell_type": "code",
   "execution_count": null,
   "metadata": {},
   "outputs": [],
   "source": []
  }
 ],
 "metadata": {
  "kernelspec": {
   "display_name": "Python 3",
   "language": "python",
   "name": "python3"
  },
  "language_info": {
   "codemirror_mode": {
    "name": "ipython",
    "version": 3
   },
   "file_extension": ".py",
   "mimetype": "text/x-python",
   "name": "python",
   "nbconvert_exporter": "python",
   "pygments_lexer": "ipython3",
   "version": "3.9.1"
  }
 },
 "nbformat": 4,
 "nbformat_minor": 4
}
