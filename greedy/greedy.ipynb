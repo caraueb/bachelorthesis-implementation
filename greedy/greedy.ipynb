{
 "cells": [
  {
   "cell_type": "code",
   "execution_count": 22,
   "metadata": {},
   "outputs": [],
   "source": [
    "import numpy as np\n",
    "import pandas as pd\n",
    "import csv\n",
    "import os"
   ]
  },
  {
   "cell_type": "markdown",
   "metadata": {},
   "source": [
    "## Greedy Algorithm"
   ]
  },
  {
   "cell_type": "code",
   "execution_count": 23,
   "metadata": {},
   "outputs": [],
   "source": [
    "n = 10 # number of campaigns\n",
    "m = 100000 # number of customers\n",
    "\n",
    "s = np.random.choice([0, 1, 2], n) # single slot\n",
    "d = np.random.choice([5, 8, 15, 17, 23, 30], n) # processing time\n",
    "c = np.random.randint(low = 10, high = 100, size = n) # cost\n",
    "b = np.random.randint(low = 70, high = 300, size = n) # benefit\n",
    "C = np.random.randint(low = 0.4*m, high = 0.95*m, size = n)*c # maximum cost\n",
    "\n",
    "zippedList =  list(zip(s, d, c, b, C))\n",
    "campaigns = pd.DataFrame(zippedList, columns = ['starting time', 'processing time' , 'cost', 'benefit', 'maximum cost'])\n",
    "campaigns.index.names = ['name']\n",
    "# print(\"Dataframe : \",campaigns, sep='\\n')\n",
    "\n",
    "# matrix with take-rates\n",
    "T = np.random.random_sample((m, n))"
   ]
  },
  {
   "cell_type": "code",
   "execution_count": 24,
   "metadata": {},
   "outputs": [],
   "source": [
    "def greedy(n, campaigns, take_rates):\n",
    "    campaigns['ratio'] = campaigns['benefit'] / campaigns['cost']\n",
    "    sorted_campaigns = campaigns.sort_values(by=['ratio'], ascending=False)\n",
    "    sorted_campaigns['total cost'] = 0\n",
    "    customers = pd.DataFrame(take_rates)\n",
    "    customers['campaigns'] = [[] for _ in range(len(customers))] # list to store assigned campaigns\n",
    "    customers['blocking times'] = [set() for _ in range(len(customers))] # list to store blocking times\n",
    "    customers.index.names = ['costumer']\n",
    "    profit  = 0\n",
    "    \n",
    "    for j in range(len(sorted_campaigns)):\n",
    "        current_campaign = sorted_campaigns.index[j]\n",
    "        sorted_customers = customers.sort_values(by=[current_campaign], ascending=False)\n",
    "        start_time = sorted_campaigns.loc[current_campaign, 'starting time']\n",
    "        end_time = sorted_campaigns.loc[current_campaign, 'starting time'] + sorted_campaigns.loc[current_campaign, 'processing time']\n",
    "        for i in range(len(sorted_customers)):\n",
    "            current_costumer = sorted_customers.index[i]\n",
    "            if sorted_campaigns.loc[current_campaign, 'total cost'] + sorted_campaigns.loc[current_campaign, 'cost'] <= sorted_campaigns.loc[current_campaign, 'maximum cost']:\n",
    "                if start_time not in customers.loc[current_costumer, 'blocking times']:\n",
    "                    sorted_campaigns.loc[current_campaign, 'total cost'] = sorted_campaigns.loc[current_campaign, 'cost'] + sorted_campaigns.loc[current_campaign, 'total cost']\n",
    "                    customers.loc[current_costumer, 'campaigns'].append(current_campaign)\n",
    "                    customers.loc[current_costumer, 'blocking times'].update(range(start_time,end_time))\n",
    "                    profit += (sorted_campaigns.loc[current_campaign, 'benefit'] * customers.loc[current_costumer, current_campaign]) - sorted_campaigns.loc[current_campaign, 'cost']\n",
    "            else:\n",
    "                break\n",
    "                \n",
    "    return customers['campaigns'], profit"
   ]
  },
  {
   "cell_type": "code",
   "execution_count": 26,
   "metadata": {},
   "outputs": [],
   "source": [
    "schedule, profit = greedy(m, campaigns ,T)\n",
    "\n",
    "cwd = os.getcwd()\n",
    "path = '{}/output'.format(cwd)\n",
    "if not os.path.exists(path):\n",
    "    os.makedirs(path)\n",
    "schedule.to_csv('{}/greedy.csv'.format(path))"
   ]
  },
  {
   "cell_type": "code",
   "execution_count": null,
   "metadata": {},
   "outputs": [],
   "source": []
  }
 ],
 "metadata": {
  "finalized": {
   "timestamp": 1614950509830,
   "trusted": true
  },
  "kernelspec": {
   "display_name": "Python 3",
   "language": "python",
   "name": "python3"
  },
  "language_info": {
   "codemirror_mode": {
    "name": "ipython",
    "version": 3
   },
   "file_extension": ".py",
   "mimetype": "text/x-python",
   "name": "python",
   "nbconvert_exporter": "python",
   "pygments_lexer": "ipython3",
   "version": "3.9.1"
  }
 },
 "nbformat": 4,
 "nbformat_minor": 4
}
