{
 "cells": [
  {
   "cell_type": "code",
   "execution_count": 5,
   "metadata": {},
   "outputs": [],
   "source": [
    "import numpy as np\n",
    "import pandas as pd\n",
    "import gurobipy as gp\n",
    "from gurobipy import GRB\n",
    "import math\n",
    "import functools\n",
    "import random\n",
    "import time\n",
    "import csv\n",
    "import os"
   ]
  },
  {
   "cell_type": "code",
   "execution_count": 6,
   "metadata": {},
   "outputs": [],
   "source": [
    "n = 10 # number of campaigns\n",
    "m = 1000 # number of customers\n",
    "slots = 3 # 3 time slots \n",
    "slot_length = 15\n",
    "\n",
    "s = [sorted(random.sample([0,1,2], random.randint(1, 3))) for i in range(n)] # multiple slots\n",
    "p = np.full(n, slot_length) # processing time\n",
    "c = np.random.randint(low = 10, high = 100, size = n) # cost\n",
    "b = np.random.randint(low = 70, high = 300, size = n) # benefit\n",
    "C = np.random.randint(low = 0.4*m, high = 0.95*m, size = n)*c # maximum cost\n",
    "\n",
    "zippedList =  list(zip(s, p, c, b, C))\n",
    "campaigns = pd.DataFrame(zippedList, columns = ['starting time', 'processing time' , 'cost', 'benefit', 'maximum cost'])\n",
    "campaigns.index.names = ['name']\n",
    "# print(\"Dataframe : \" , campaigns, sep='\\n')\n",
    "\n",
    "# matrix with take-rates\n",
    "T = np.random.random_sample((m, n))"
   ]
  },
  {
   "cell_type": "code",
   "execution_count": 7,
   "metadata": {},
   "outputs": [],
   "source": [
    "def greedy_multiple(n, campaigns, take_rates):\n",
    "    campaigns['starting time'] = [random.choice(campaigns['starting time'].iloc[i]) for i in range(n)]\n",
    "    campaigns['ratio'] = campaigns['benefit'] / campaigns['cost']\n",
    "    sorted_campaigns = campaigns.sort_values(by=['ratio'], ascending=False)\n",
    "    sorted_campaigns['total cost'] = 0\n",
    "    customers = pd.DataFrame(take_rates)\n",
    "    customers['campaigns'] = [[] for _ in range(len(customers))] # list to store assigned campaigns\n",
    "    customers['blocking times'] = [set() for _ in range(len(customers))] # list to store blocking times\n",
    "    customers.index.names = ['costumer']\n",
    "    profit  = 0\n",
    "    \n",
    "    for j in range(len(sorted_campaigns)):\n",
    "        current_campaign = sorted_campaigns.index[j]\n",
    "        sorted_customers = customers.sort_values(by=[current_campaign], ascending=False)\n",
    "        start_time = sorted_campaigns.loc[current_campaign, 'starting time']\n",
    "        end_time = sorted_campaigns.loc[current_campaign, 'starting time'] + sorted_campaigns.loc[current_campaign, 'processing time']\n",
    "        for i in range(len(sorted_customers)):\n",
    "            current_costumer = sorted_customers.index[i]\n",
    "            if sorted_campaigns.loc[current_campaign, 'total cost'] + sorted_campaigns.loc[current_campaign, 'cost'] <= sorted_campaigns.loc[current_campaign, 'maximum cost']:\n",
    "                if start_time not in customers.loc[current_costumer, 'blocking times']:\n",
    "                    sorted_campaigns.loc[current_campaign, 'total cost'] = sorted_campaigns.loc[current_campaign, 'cost'] + sorted_campaigns.loc[current_campaign, 'total cost']\n",
    "                    customers.loc[current_costumer, 'campaigns'].append(current_campaign)\n",
    "                    customers.loc[current_costumer, 'blocking times'].update(range(start_time,end_time))\n",
    "                    profit += (sorted_campaigns.loc[current_campaign, 'benefit'] * customers.loc[current_costumer, current_campaign]) - sorted_campaigns.loc[current_campaign, 'cost']\n",
    "            else:\n",
    "                break\n",
    "                \n",
    "    return customers['campaigns'], profit"
   ]
  },
  {
   "cell_type": "code",
   "execution_count": 8,
   "metadata": {},
   "outputs": [],
   "source": [
    "schedule, profit = greedy_multiple(n, campaigns ,T)\n",
    "\n",
    "cwd = os.getcwd()\n",
    "path = '{}/output'.format(cwd)\n",
    "if not os.path.exists(path):\n",
    "    os.makedirs(path)\n",
    "schedule.to_csv('{}/greedy_adapted.csv'.format(path))"
   ]
  },
  {
   "cell_type": "code",
   "execution_count": null,
   "metadata": {},
   "outputs": [],
   "source": []
  }
 ],
 "metadata": {
  "finalized": {
   "timestamp": 1614332433457,
   "trusted": true
  },
  "kernelspec": {
   "display_name": "Python 3",
   "language": "python",
   "name": "python3"
  },
  "language_info": {
   "codemirror_mode": {
    "name": "ipython",
    "version": 3
   },
   "file_extension": ".py",
   "mimetype": "text/x-python",
   "name": "python",
   "nbconvert_exporter": "python",
   "pygments_lexer": "ipython3",
   "version": "3.9.1"
  }
 },
 "nbformat": 4,
 "nbformat_minor": 4
}
